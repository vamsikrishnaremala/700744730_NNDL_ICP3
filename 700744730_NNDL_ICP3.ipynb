{
  "nbformat": 4,
  "nbformat_minor": 0,
  "metadata": {
    "colab": {
      "provenance": []
    },
    "kernelspec": {
      "name": "python3",
      "display_name": "Python 3"
    },
    "language_info": {
      "name": "python"
    }
  },
  "cells": [
    {
      "cell_type": "code",
      "source": [
        "# • Create a Fulltime Employee class\n",
        "class FulltimeEmployee(Employee):\n",
        "    def __init__(self, name, family, salary, department):\n",
        "        super().__init__(name, family, salary, department)"
      ],
      "metadata": {
        "id": "AkLC33m3J7WT"
      },
      "execution_count": 16,
      "outputs": []
    },
    {
      "cell_type": "code",
      "source": [
        "\n",
        "# Creating the instances for Employee class\n",
        "employee1 = Employee(\"vamsi\", \"remala\", 50000, \"HR\")\n",
        "employee2 = Employee(\"ramesh\", \"singh\", 60000, \"Finance\")\n",
        "employee3 = Employee(\"zaheer\", \"khan\", 55000, \"IT\")"
      ],
      "metadata": {
        "id": "KfX0QhZNJ9v4"
      },
      "execution_count": 17,
      "outputs": []
    },
    {
      "cell_type": "code",
      "source": [
        "# Creating the instances for FulltimeEmployee class\n",
        "fulltime_employee1 = FulltimeEmployee(\"Rakesh\", \"prana\", 70000, \"Marketing\")\n",
        "fulltime_employee2 = FulltimeEmployee(\"iqbal\", \"hussain\", 75000, \"Sales\")"
      ],
      "metadata": {
        "id": "LomvwwAlKB8G"
      },
      "execution_count": 18,
      "outputs": []
    },
    {
      "cell_type": "code",
      "source": [
        "# Calling the respective member functions\n",
        "employees = [employee1, employee2, employee3, fulltime_employee1, fulltime_employee2]\n",
        "avg_salary = Employee.avg_salary(employees)\n",
        "\n",
        "print(f\"Employees Count: {Employee.employees_count}\")\n",
        "print(f\"Average salary: ${avg_salary:.2f}\")"
      ],
      "metadata": {
        "colab": {
          "base_uri": "https://localhost:8080/"
        },
        "id": "AJMkExcZKFgk",
        "outputId": "f9d1c750-b076-485b-e4cb-1aaad3336ecc"
      },
      "execution_count": 19,
      "outputs": [
        {
          "output_type": "stream",
          "name": "stdout",
          "text": [
            "Employees Count: 5\n",
            "Average salary: $62000.00\n"
          ]
        }
      ]
    },
    {
      "cell_type": "code",
      "execution_count": 15,
      "metadata": {
        "id": "8OhZng4aI582"
      },
      "outputs": [],
      "source": [
        "# 1. Create a class Employee and then do the following\n",
        "   # • Create a data member to count the number of Employees\n",
        "   # • Create a constructor to initialize name, family, salary, department\n",
        "   # • Create a function to average salary\n",
        "   # • Create a Fulltime Employee class and it should inherit the properties of Employee class\n",
        "   # • Create the instances of Fulltime Employee class and Employee class and call their member functions.\n",
        "\n",
        "\n",
        "class Employee:\n",
        "    employees_count = 0\n",
        "\n",
        "    def __init__(self, name, family, salary, department):\n",
        "        self.name = name\n",
        "        self.family = family\n",
        "        self.salary = salary\n",
        "        self.department = department\n",
        "        Employee.employees_count += 1\n",
        "\n",
        "    @classmethod\n",
        "    def avg_salary(cls, employees):\n",
        "        total_sal = sum(employee.salary for employee in employees)\n",
        "        if len(employees) > 0:\n",
        "          return total_sal / len(employees)\n",
        "        else:\n",
        "          return 0"
      ]
    },
    {
      "cell_type": "code",
      "source": [
        "# 2. Numpy\n",
        "   # Using NumPy create random vector of size 20 having only float in the range 1-20.\n",
        "   # Then reshape the array to 4 by 5\n",
        "   # Then replace the max in each row by 0 (axis=1)\n",
        "   # (you can NOT implement it via for loop)"
      ],
      "metadata": {
        "id": "x3kdZp5wcuG_"
      },
      "execution_count": 23,
      "outputs": []
    },
    {
      "cell_type": "code",
      "source": [
        "import numpy as np\n",
        "\n",
        "# Creating a random vector here\n",
        "random_vector = np.random.uniform(1, 20, 20)\n",
        "print(random_vector)"
      ],
      "metadata": {
        "colab": {
          "base_uri": "https://localhost:8080/"
        },
        "id": "WX7pot8qfis9",
        "outputId": "038074ed-24cb-422b-eaef-94a948b6eddf"
      },
      "execution_count": 24,
      "outputs": [
        {
          "output_type": "stream",
          "name": "stdout",
          "text": [
            "[ 9.12006235 17.51146296 16.54937968  4.84705882  2.04472335  3.47237538\n",
            " 16.23077195 11.08015899  4.69350611 13.4158621  13.55879993 10.15306925\n",
            " 11.18957902  8.66530486 13.3313942  15.46472363 14.64905792  5.05153076\n",
            " 16.59219325 15.56020471]\n"
          ]
        }
      ]
    },
    {
      "cell_type": "code",
      "source": [
        "# Reshaping the generated array to 4 by 5\n",
        "reshape_array = random_vector.reshape(4, 5)\n",
        "print(reshape_array)"
      ],
      "metadata": {
        "colab": {
          "base_uri": "https://localhost:8080/"
        },
        "id": "VfGmiZbnftSJ",
        "outputId": "c463525a-86cc-4c6c-ac82-70163e6d1619"
      },
      "execution_count": 25,
      "outputs": [
        {
          "output_type": "stream",
          "name": "stdout",
          "text": [
            "[[ 9.12006235 17.51146296 16.54937968  4.84705882  2.04472335]\n",
            " [ 3.47237538 16.23077195 11.08015899  4.69350611 13.4158621 ]\n",
            " [13.55879993 10.15306925 11.18957902  8.66530486 13.3313942 ]\n",
            " [15.46472363 14.64905792  5.05153076 16.59219325 15.56020471]]\n"
          ]
        }
      ]
    },
    {
      "cell_type": "code",
      "source": [
        "# Insteading of looping, we are getting the indices of the maximum values in each row of array\n",
        "\n",
        "indices_position = np.argmax(reshape_array, axis=1)\n",
        "print(indices_position)"
      ],
      "metadata": {
        "colab": {
          "base_uri": "https://localhost:8080/"
        },
        "id": "wolqpYcIifJp",
        "outputId": "057f3116-92da-419e-ceb3-0a05b63e64d0"
      },
      "execution_count": 26,
      "outputs": [
        {
          "output_type": "stream",
          "name": "stdout",
          "text": [
            "[1 1 0 3]\n"
          ]
        }
      ]
    },
    {
      "cell_type": "code",
      "source": [
        "# Replace the maximum values with 0\n",
        "# Using np.arrange function, we are generating an array of values from 0 to 3\n",
        "# Using advanced indexing, here we are combing the postion indices and our newly generated indices and assigning 0:\n",
        "\n",
        "reshape_array[np.arange(4), indices_position] = 0\n",
        "\n",
        "print(reshape_array)"
      ],
      "metadata": {
        "colab": {
          "base_uri": "https://localhost:8080/"
        },
        "id": "Yfe-oIsPi5DH",
        "outputId": "b86411a3-bf15-402d-c40a-a79d5c8fa773"
      },
      "execution_count": 27,
      "outputs": [
        {
          "output_type": "stream",
          "name": "stdout",
          "text": [
            "[[ 9.12006235  0.         16.54937968  4.84705882  2.04472335]\n",
            " [ 3.47237538  0.         11.08015899  4.69350611 13.4158621 ]\n",
            " [ 0.         10.15306925 11.18957902  8.66530486 13.3313942 ]\n",
            " [15.46472363 14.64905792  5.05153076  0.         15.56020471]]\n"
          ]
        }
      ]
    }
  ]
}